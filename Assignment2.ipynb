{
 "cells": [
  {
   "cell_type": "raw",
   "id": "f6b1cbdd",
   "metadata": {},
   "source": [
    "#Assignment-2\n",
    "l=[3,4,5,6,7,[23,456,67,8,78,78],[345,56,87,8,98,9],(234,6657,6),{\"key1\":\"sudh\",234:[23,45,656]}]\n",
    "Q1> try to reverse the list\n",
    "Q2>try to access 234 out of the list\n",
    "Q3> try to access 456\n",
    "Q4> try to extract only a list collection from list l\n",
    "Q5> try to extract \"sudh\"\n",
    "Q6>try to list all the key in dict eleent avaliable in list\n",
    "Q7> try to extract all the value element from dict avaliable in list\n",
    "\n",
    "Questions avaliable at\n",
    "codeshare.io/X8PY8Y"
   ]
  },
  {
   "cell_type": "code",
   "execution_count": 1,
   "id": "e8fddfce",
   "metadata": {},
   "outputs": [],
   "source": [
    "l=[3,4,5,6,7,[23,456,67,8,78,78],[345,56,87,8,98,9],(234,6657,6),{\"key1\":\"sudh\",234:[23,45,656]}]"
   ]
  },
  {
   "cell_type": "code",
   "execution_count": 2,
   "id": "04b64fd3",
   "metadata": {},
   "outputs": [
    {
     "data": {
      "text/plain": [
       "[3,\n",
       " 4,\n",
       " 5,\n",
       " 6,\n",
       " 7,\n",
       " [23, 456, 67, 8, 78, 78],\n",
       " [345, 56, 87, 8, 98, 9],\n",
       " (234, 6657, 6),\n",
       " {'key1': 'sudh', 234: [23, 45, 656]}]"
      ]
     },
     "execution_count": 2,
     "metadata": {},
     "output_type": "execute_result"
    }
   ],
   "source": [
    "l"
   ]
  },
  {
   "cell_type": "raw",
   "id": "b499ddaf",
   "metadata": {},
   "source": [
    "Q1> try to reverse the list"
   ]
  },
  {
   "cell_type": "code",
   "execution_count": 3,
   "id": "998ca87b",
   "metadata": {},
   "outputs": [
    {
     "data": {
      "text/plain": [
       "[{'key1': 'sudh', 234: [23, 45, 656]},\n",
       " (234, 6657, 6),\n",
       " [345, 56, 87, 8, 98, 9],\n",
       " [23, 456, 67, 8, 78, 78],\n",
       " 7,\n",
       " 6,\n",
       " 5,\n",
       " 4,\n",
       " 3]"
      ]
     },
     "execution_count": 3,
     "metadata": {},
     "output_type": "execute_result"
    }
   ],
   "source": [
    "l[::-1]"
   ]
  },
  {
   "cell_type": "raw",
   "id": "2083b9c6",
   "metadata": {},
   "source": [
    "Q2>try to access 234 out of the list"
   ]
  },
  {
   "cell_type": "code",
   "execution_count": 6,
   "id": "8c69886a",
   "metadata": {},
   "outputs": [
    {
     "data": {
      "text/plain": [
       "234"
      ]
     },
     "execution_count": 6,
     "metadata": {},
     "output_type": "execute_result"
    }
   ],
   "source": [
    "l[7][0]"
   ]
  },
  {
   "cell_type": "raw",
   "id": "d4de6134",
   "metadata": {},
   "source": [
    "Q3> try to access 456"
   ]
  },
  {
   "cell_type": "code",
   "execution_count": 9,
   "id": "2b89cfd5",
   "metadata": {},
   "outputs": [
    {
     "data": {
      "text/plain": [
       "456"
      ]
     },
     "execution_count": 9,
     "metadata": {},
     "output_type": "execute_result"
    }
   ],
   "source": [
    "l[5][1]"
   ]
  },
  {
   "cell_type": "raw",
   "id": "ae889c3f",
   "metadata": {},
   "source": [
    "Q4> try to extract only a list collection from list l"
   ]
  },
  {
   "cell_type": "code",
   "execution_count": 15,
   "id": "cb3925f9",
   "metadata": {},
   "outputs": [
    {
     "data": {
      "text/plain": [
       "[3, 4, 5, 6, 7, [23, 456, 67, 8, 78, 78], [345, 56, 87, 8, 98, 9]]"
      ]
     },
     "execution_count": 15,
     "metadata": {},
     "output_type": "execute_result"
    }
   ],
   "source": [
    "l[0:7]"
   ]
  },
  {
   "cell_type": "code",
   "execution_count": 16,
   "id": "ff3a8008",
   "metadata": {},
   "outputs": [
    {
     "data": {
      "text/plain": [
       "[[23, 456, 67, 8, 78, 78], [345, 56, 87, 8, 98, 9]]"
      ]
     },
     "execution_count": 16,
     "metadata": {},
     "output_type": "execute_result"
    }
   ],
   "source": [
    "l[5:7]"
   ]
  },
  {
   "cell_type": "raw",
   "id": "b89d5f5a",
   "metadata": {},
   "source": [
    "Q5> try to extract \"sudh\""
   ]
  },
  {
   "cell_type": "code",
   "execution_count": 36,
   "id": "3016569e",
   "metadata": {},
   "outputs": [
    {
     "data": {
      "text/plain": [
       "'sudh'"
      ]
     },
     "execution_count": 36,
     "metadata": {},
     "output_type": "execute_result"
    }
   ],
   "source": [
    "l[8]['key1']"
   ]
  },
  {
   "cell_type": "raw",
   "id": "85df4f94",
   "metadata": {},
   "source": [
    "Q6>try to list all the key in dict eleent avaliable in list"
   ]
  },
  {
   "cell_type": "code",
   "execution_count": 37,
   "id": "c094ae5d",
   "metadata": {},
   "outputs": [
    {
     "data": {
      "text/plain": [
       "dict_keys(['key1', 234])"
      ]
     },
     "execution_count": 37,
     "metadata": {},
     "output_type": "execute_result"
    }
   ],
   "source": [
    "l[8].keys()"
   ]
  },
  {
   "cell_type": "raw",
   "id": "385d1ef1",
   "metadata": {},
   "source": [
    "Q7> try to extract all the value element from dict avaliable in list"
   ]
  },
  {
   "cell_type": "code",
   "execution_count": 38,
   "id": "e8758225",
   "metadata": {},
   "outputs": [
    {
     "data": {
      "text/plain": [
       "dict_values(['sudh', [23, 45, 656]])"
      ]
     },
     "execution_count": 38,
     "metadata": {},
     "output_type": "execute_result"
    }
   ],
   "source": [
    "l[8].values()"
   ]
  },
  {
   "cell_type": "code",
   "execution_count": null,
   "id": "605cc30d",
   "metadata": {},
   "outputs": [],
   "source": []
  }
 ],
 "metadata": {
  "kernelspec": {
   "display_name": "Python 3",
   "language": "python",
   "name": "python3"
  },
  "language_info": {
   "codemirror_mode": {
    "name": "ipython",
    "version": 3
   },
   "file_extension": ".py",
   "mimetype": "text/x-python",
   "name": "python",
   "nbconvert_exporter": "python",
   "pygments_lexer": "ipython3",
   "version": "3.8.8"
  }
 },
 "nbformat": 4,
 "nbformat_minor": 5
}
